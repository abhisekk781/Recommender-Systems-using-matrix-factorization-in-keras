{
 "cells": [
  {
   "cell_type": "code",
   "execution_count": 10,
   "metadata": {
    "ExecuteTime": {
     "end_time": "2020-05-17T10:59:39.310141Z",
     "start_time": "2020-05-17T10:59:39.014556Z"
    }
   },
   "outputs": [],
   "source": [
    "from __future__ import print_function, division\n",
    "from builtins import range, input\n",
    "\n",
    "import pickle\n",
    "import numpy as np\n",
    "import pandas as pd\n",
    "import matplotlib.pyplot as plt\n",
    "from sklearn.utils import shuffle\n",
    "\n",
    "from keras.models import Model\n",
    "from keras.layers import Input, Embedding, Dot, Add, Flatten\n",
    "from keras.regularizers import l2\n",
    "from keras.optimizers import SGD, Adam\n",
    "\n",
    "# load in the data\n",
    "df = pd.read_csv('very_small_rating.csv')"
   ]
  },
  {
   "cell_type": "code",
   "execution_count": 59,
   "metadata": {
    "ExecuteTime": {
     "end_time": "2020-05-17T12:06:28.900362Z",
     "start_time": "2020-05-17T12:06:28.863654Z"
    }
   },
   "outputs": [
    {
     "data": {
      "text/html": [
       "<div>\n",
       "<style scoped>\n",
       "    .dataframe tbody tr th:only-of-type {\n",
       "        vertical-align: middle;\n",
       "    }\n",
       "\n",
       "    .dataframe tbody tr th {\n",
       "        vertical-align: top;\n",
       "    }\n",
       "\n",
       "    .dataframe thead th {\n",
       "        text-align: right;\n",
       "    }\n",
       "</style>\n",
       "<table border=\"1\" class=\"dataframe\">\n",
       "  <thead>\n",
       "    <tr style=\"text-align: right;\">\n",
       "      <th></th>\n",
       "      <th>userId</th>\n",
       "      <th>movieId</th>\n",
       "      <th>rating</th>\n",
       "      <th>movie_idx</th>\n",
       "    </tr>\n",
       "  </thead>\n",
       "  <tbody>\n",
       "    <tr>\n",
       "      <th>59189</th>\n",
       "      <td>1325</td>\n",
       "      <td>2571</td>\n",
       "      <td>3.0</td>\n",
       "      <td>8</td>\n",
       "    </tr>\n",
       "    <tr>\n",
       "      <th>132628</th>\n",
       "      <td>4191</td>\n",
       "      <td>316</td>\n",
       "      <td>0.5</td>\n",
       "      <td>55</td>\n",
       "    </tr>\n",
       "    <tr>\n",
       "      <th>520783</th>\n",
       "      <td>2545</td>\n",
       "      <td>296</td>\n",
       "      <td>4.0</td>\n",
       "      <td>0</td>\n",
       "    </tr>\n",
       "    <tr>\n",
       "      <th>438669</th>\n",
       "      <td>2016</td>\n",
       "      <td>1291</td>\n",
       "      <td>4.0</td>\n",
       "      <td>58</td>\n",
       "    </tr>\n",
       "    <tr>\n",
       "      <th>221328</th>\n",
       "      <td>3339</td>\n",
       "      <td>47</td>\n",
       "      <td>3.5</td>\n",
       "      <td>23</td>\n",
       "    </tr>\n",
       "  </tbody>\n",
       "</table>\n",
       "</div>"
      ],
      "text/plain": [
       "        userId  movieId  rating  movie_idx\n",
       "59189     1325     2571     3.0          8\n",
       "132628    4191      316     0.5         55\n",
       "520783    2545      296     4.0          0\n",
       "438669    2016     1291     4.0         58\n",
       "221328    3339       47     3.5         23"
      ]
     },
     "execution_count": 59,
     "metadata": {},
     "output_type": "execute_result"
    }
   ],
   "source": [
    "df.sample(5)"
   ]
  },
  {
   "cell_type": "code",
   "execution_count": 12,
   "metadata": {
    "ExecuteTime": {
     "end_time": "2020-05-17T10:59:45.155159Z",
     "start_time": "2020-05-17T10:59:45.136259Z"
    }
   },
   "outputs": [
    {
     "name": "stdout",
     "output_type": "stream",
     "text": [
      "Total No. of Users:  5000  Total No. of Movies:  150\n"
     ]
    }
   ],
   "source": [
    "N = df.userId.max() + 1 # number of users\n",
    "M = df.movie_idx.max() + 1 # number of movies\n",
    "print(\"Total No. of Users: \",N,\" Total No. of Movies: \",M)"
   ]
  },
  {
   "cell_type": "code",
   "execution_count": 15,
   "metadata": {
    "ExecuteTime": {
     "end_time": "2020-05-17T11:00:16.539270Z",
     "start_time": "2020-05-17T11:00:16.458480Z"
    }
   },
   "outputs": [
    {
     "name": "stdout",
     "output_type": "stream",
     "text": [
      "(560669, 4)\n"
     ]
    }
   ],
   "source": [
    "#Shuffle the dataframe\n",
    "df=shuffle(df)\n",
    "print(df.shape)"
   ]
  },
  {
   "cell_type": "code",
   "execution_count": 16,
   "metadata": {
    "ExecuteTime": {
     "end_time": "2020-05-17T11:00:17.514672Z",
     "start_time": "2020-05-17T11:00:17.506460Z"
    }
   },
   "outputs": [
    {
     "name": "stdout",
     "output_type": "stream",
     "text": [
      "448535\n",
      "(448535, 4) (112134, 4)\n"
     ]
    }
   ],
   "source": [
    "# split into train and test\n",
    "cutoff = int(0.8*len(df))\n",
    "print(cutoff)\n",
    "df_train = df.iloc[:cutoff]\n",
    "df_test = df.iloc[cutoff:]\n",
    "print(df_train.shape,df_test.shape)"
   ]
  },
  {
   "cell_type": "code",
   "execution_count": 17,
   "metadata": {
    "ExecuteTime": {
     "end_time": "2020-05-17T11:00:44.190317Z",
     "start_time": "2020-05-17T11:00:44.180817Z"
    }
   },
   "outputs": [],
   "source": [
    "# initialize variables\n",
    "K = 10 # latent dimensionality\n",
    "mu = df_train.rating.mean()\n",
    "epochs = 15\n",
    "reg = 0. # regularization penalty"
   ]
  },
  {
   "cell_type": "code",
   "execution_count": 18,
   "metadata": {
    "ExecuteTime": {
     "end_time": "2020-05-17T11:02:02.032054Z",
     "start_time": "2020-05-17T11:02:01.946227Z"
    }
   },
   "outputs": [
    {
     "name": "stderr",
     "output_type": "stream",
     "text": [
      "WARNING: Logging before flag parsing goes to stderr.\n",
      "W0517 16:32:02.000485 4561110464 deprecation.py:506] From /Library/Frameworks/Python.framework/Versions/3.6/lib/python3.6/site-packages/tensorflow_core/python/ops/resource_variable_ops.py:1630: calling BaseResourceVariable.__init__ (from tensorflow.python.ops.resource_variable_ops) with constraint is deprecated and will be removed in a future version.\n",
      "Instructions for updating:\n",
      "If using Keras pass *_constraint arguments to layers.\n"
     ]
    }
   ],
   "source": [
    "# keras model\n",
    "u = Input(shape=(1,))\n",
    "m = Input(shape=(1,))\n",
    "u_embedding = Embedding(N, K, embeddings_regularizer=l2(reg))(u) # (N, 1, K)\n",
    "m_embedding = Embedding(M, K, embeddings_regularizer=l2(reg))(m) # (N, 1, K)"
   ]
  },
  {
   "cell_type": "code",
   "execution_count": 20,
   "metadata": {
    "ExecuteTime": {
     "end_time": "2020-05-17T11:03:32.262030Z",
     "start_time": "2020-05-17T11:03:32.220539Z"
    }
   },
   "outputs": [],
   "source": [
    "#Build the bias term\n",
    "u_bias = Embedding(N, 1, embeddings_regularizer=l2(reg))(u) # (N, 1, 1)\n",
    "m_bias = Embedding(M, 1, embeddings_regularizer=l2(reg))(m) # (N, 1, 1)\n",
    "#Matrix of the embeddings\n",
    "x = Dot(axes=2)([u_embedding, m_embedding]) # (N, 1, 1)"
   ]
  },
  {
   "cell_type": "code",
   "execution_count": 21,
   "metadata": {
    "ExecuteTime": {
     "end_time": "2020-05-17T11:04:33.324516Z",
     "start_time": "2020-05-17T11:04:33.298540Z"
    }
   },
   "outputs": [],
   "source": [
    "#Add the bias embeddings to the matrix\n",
    "x = Add()([x, u_bias, m_bias])\n",
    "#Flatten the entire matrix\n",
    "x = Flatten()(x) # (N, 1)"
   ]
  },
  {
   "cell_type": "code",
   "execution_count": 22,
   "metadata": {
    "ExecuteTime": {
     "end_time": "2020-05-17T11:05:52.899597Z",
     "start_time": "2020-05-17T11:05:52.773692Z"
    }
   },
   "outputs": [],
   "source": [
    "#Inputs and output of the model\n",
    "model = Model(inputs=[u, m], outputs=x)\n",
    "model.compile(\n",
    "  loss='mse',\n",
    "  # optimizer='adam',\n",
    "  # optimizer=Adam(lr=0.01),\n",
    "  optimizer=SGD(lr=0.08, momentum=0.9),\n",
    "  metrics=['mse'],\n",
    ")"
   ]
  },
  {
   "cell_type": "code",
   "execution_count": 23,
   "metadata": {
    "ExecuteTime": {
     "end_time": "2020-05-17T11:07:52.089047Z",
     "start_time": "2020-05-17T11:06:19.524756Z"
    }
   },
   "outputs": [
    {
     "name": "stderr",
     "output_type": "stream",
     "text": [
      "W0517 16:36:20.042325 4561110464 module_wrapper.py:139] From /Library/Frameworks/Python.framework/Versions/3.6/lib/python3.6/site-packages/keras/backend/tensorflow_backend.py:422: The name tf.global_variables is deprecated. Please use tf.compat.v1.global_variables instead.\n",
      "\n"
     ]
    },
    {
     "name": "stdout",
     "output_type": "stream",
     "text": [
      "Train on 448535 samples, validate on 112134 samples\n",
      "Epoch 1/15\n",
      "448535/448535 [==============================] - 7s 15us/step - loss: 0.7178 - mse: 0.7178 - val_loss: 0.6675 - val_mse: 0.6675\n",
      "Epoch 2/15\n",
      "448535/448535 [==============================] - 6s 14us/step - loss: 0.6562 - mse: 0.6562 - val_loss: 0.6523 - val_mse: 0.6523\n",
      "Epoch 3/15\n",
      "448535/448535 [==============================] - 6s 14us/step - loss: 0.6415 - mse: 0.6415 - val_loss: 0.6344 - val_mse: 0.6344\n",
      "Epoch 4/15\n",
      "448535/448535 [==============================] - 6s 14us/step - loss: 0.6039 - mse: 0.6039 - val_loss: 0.6002 - val_mse: 0.6002\n",
      "Epoch 5/15\n",
      "448535/448535 [==============================] - 6s 14us/step - loss: 0.5679 - mse: 0.5679 - val_loss: 0.5763 - val_mse: 0.5763\n",
      "Epoch 6/15\n",
      "448535/448535 [==============================] - 6s 14us/step - loss: 0.5255 - mse: 0.5255 - val_loss: 0.5558 - val_mse: 0.5558\n",
      "Epoch 7/15\n",
      "448535/448535 [==============================] - 6s 13us/step - loss: 0.4924 - mse: 0.4924 - val_loss: 0.5494 - val_mse: 0.5494\n",
      "Epoch 8/15\n",
      "448535/448535 [==============================] - 6s 13us/step - loss: 0.4736 - mse: 0.4736 - val_loss: 0.5497 - val_mse: 0.5497\n",
      "Epoch 9/15\n",
      "448535/448535 [==============================] - 6s 13us/step - loss: 0.4642 - mse: 0.4642 - val_loss: 0.5516 - val_mse: 0.5516\n",
      "Epoch 10/15\n",
      "448535/448535 [==============================] - 6s 13us/step - loss: 0.4587 - mse: 0.4587 - val_loss: 0.5518 - val_mse: 0.5518\n",
      "Epoch 11/15\n",
      "448535/448535 [==============================] - 6s 13us/step - loss: 0.4549 - mse: 0.4549 - val_loss: 0.5525 - val_mse: 0.5525\n",
      "Epoch 12/15\n",
      "448535/448535 [==============================] - 7s 15us/step - loss: 0.4520 - mse: 0.4520 - val_loss: 0.5524 - val_mse: 0.5524\n",
      "Epoch 13/15\n",
      "448535/448535 [==============================] - 6s 14us/step - loss: 0.4498 - mse: 0.4498 - val_loss: 0.5529 - val_mse: 0.5529\n",
      "Epoch 14/15\n",
      "448535/448535 [==============================] - 6s 14us/step - loss: 0.4480 - mse: 0.4480 - val_loss: 0.5533 - val_mse: 0.5533\n",
      "Epoch 15/15\n",
      "448535/448535 [==============================] - 6s 14us/step - loss: 0.4464 - mse: 0.4464 - val_loss: 0.5528 - val_mse: 0.5528\n"
     ]
    }
   ],
   "source": [
    "r = model.fit(\n",
    "  x=[df_train.userId.values, df_train.movie_idx.values],\n",
    "  y=df_train.rating.values - mu,\n",
    "  epochs=epochs,\n",
    "  batch_size=128,\n",
    "  validation_data=(\n",
    "    [df_test.userId.values, df_test.movie_idx.values],\n",
    "    df_test.rating.values - mu\n",
    "  )\n",
    ")"
   ]
  },
  {
   "cell_type": "code",
   "execution_count": 29,
   "metadata": {
    "ExecuteTime": {
     "end_time": "2020-05-17T11:09:26.152456Z",
     "start_time": "2020-05-17T11:09:25.950744Z"
    }
   },
   "outputs": [
    {
     "data": {
      "image/png": "[encoded data removed]",
      "text/plain": [
       "<Figure size 432x288 with 1 Axes>"
      ]
     },
     "metadata": {},
     "output_type": "display_data"
    }
   ],
   "source": [
    "# plot mse\n",
    "plt.plot(r.history['mse'], label=\"train mse\")\n",
    "plt.plot(r.history['val_mse'], label=\"test mse\")\n",
    "plt.legend()\n",
    "plt.show()"
   ]
  },
  {
   "cell_type": "code",
   "execution_count": 45,
   "metadata": {
    "ExecuteTime": {
     "end_time": "2020-05-17T12:00:01.089767Z",
     "start_time": "2020-05-17T12:00:00.883858Z"
    }
   },
   "outputs": [],
   "source": [
    "#Prediction\n",
    "user_ids = df_test.userId.values[0:5]\n",
    "movie_ids = df_test.movie_idx.values[0:5]\n",
    "new_mu=df_test.rating.values[0:5].mean()\n",
    "test_ratings=df_test.rating.values[0:5]\n",
    "pred=model.predict([user_ids,movie_ids])"
   ]
  },
  {
   "cell_type": "code",
   "execution_count": 50,
   "metadata": {
    "ExecuteTime": {
     "end_time": "2020-05-17T12:02:05.319390Z",
     "start_time": "2020-05-17T12:02:05.311316Z"
    }
   },
   "outputs": [
    {
     "name": "stdout",
     "output_type": "stream",
     "text": [
      "[[-0.31776702]\n",
      " [-1.7063041 ]\n",
      " [ 0.4101449 ]\n",
      " [ 0.9201714 ]\n",
      " [ 0.21042894]]   [-0.4 -1.9  0.1  1.1  1.1]\n"
     ]
    }
   ],
   "source": [
    "print(pred,\" \",(test_ratings-new_mu))"
   ]
  },
  {
   "cell_type": "code",
   "execution_count": 61,
   "metadata": {
    "ExecuteTime": {
     "end_time": "2020-05-17T12:08:10.784892Z",
     "start_time": "2020-05-17T12:08:10.772336Z"
    }
   },
   "outputs": [
    {
     "data": {
      "text/plain": [
       "array([[2.8034449]], dtype=float32)"
      ]
     },
     "execution_count": 61,
     "metadata": {},
     "output_type": "execute_result"
    }
   ],
   "source": [
    "#User 980 would rate the movie 47 as below\n",
    "model.predict([np.array([980]),np.array([47])]) + mu"
   ]
  },
  {
   "cell_type": "code",
   "execution_count": 40,
   "metadata": {
    "ExecuteTime": {
     "end_time": "2020-05-17T11:25:55.701204Z",
     "start_time": "2020-05-17T11:25:55.692481Z"
    }
   },
   "outputs": [
    {
     "name": "stdout",
     "output_type": "stream",
     "text": [
      "0.44644615 0.5527645945549011\n"
     ]
    }
   ],
   "source": [
    "#Mse the lower the better\n",
    "print(r.history['mse'][len(r.history['mse'])-1],r.history['val_mse'][len(r.history['val_mse'])-1])"
   ]
  },
  {
   "cell_type": "code",
   "execution_count": null,
   "metadata": {},
   "outputs": [],
   "source": []
  }
 ],
 "metadata": {
  "kernelspec": {
   "display_name": "Python 3",
   "language": "python",
   "name": "python3"
  },
  "language_info": {
   "codemirror_mode": {
    "name": "ipython",
    "version": 3
   },
   "file_extension": ".py",
   "mimetype": "text/x-python",
   "name": "python",
   "nbconvert_exporter": "python",
   "pygments_lexer": "ipython3",
   "version": "3.6.5"
  },
  "varInspector": {
   "cols": {
    "lenName": 16,
    "lenType": 16,
    "lenVar": 40
   },
   "kernels_config": {
    "python": {
     "delete_cmd_postfix": "",
     "delete_cmd_prefix": "del ",
     "library": "var_list.py",
     "varRefreshCmd": "print(var_dic_list())"
    },
    "r": {
     "delete_cmd_postfix": ") ",
     "delete_cmd_prefix": "rm(",
     "library": "var_list.r",
     "varRefreshCmd": "cat(var_dic_list()) "
    }
   },
   "types_to_exclude": [
    "module",
    "function",
    "builtin_function_or_method",
    "instance",
    "_Feature"
   ],
   "window_display": false
  }
 },
 "nbformat": 4,
 "nbformat_minor": 2
}
